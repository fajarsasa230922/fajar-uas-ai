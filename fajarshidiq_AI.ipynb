{
 "cells": [
  {
   "cell_type": "code",
   "execution_count": 12,
   "id": "5dac63b6-6bb4-45aa-8d59-7753f51c0691",
   "metadata": {},
   "outputs": [
    {
     "name": "stdout",
     "output_type": "stream",
     "text": [
      "Kecepatan Kipas: 80.56%\n"
     ]
    }
   ],
   "source": [
    "import numpy as np\n",
    "import skfuzzy as fuzz\n",
    "from skfuzzy import control as ctrl\n",
    "\n",
    "\n",
    "#Nama  : fajar shidiq\n",
    "# NIM : 201011400452\n",
    "\n",
    "# Variabel fuzzy\n",
    "suhu = ctrl.Antecedent(np.arange(16, 36, 1), 'suhu')\n",
    "kelembapan = ctrl.Antecedent(np.arange(20, 81, 1), 'kelembapan')\n",
    "kecepatan_kipas = ctrl.Consequent(np.arange(0, 101, 1), 'kecepatan_kipas')\n",
    "\n",
    "# Himpunan fuzzy untuk suhu\n",
    "suhu['dingin'] = fuzz.trimf(suhu.universe, [16, 16, 22])\n",
    "suhu['normal'] = fuzz.trimf(suhu.universe, [20, 25, 30])\n",
    "suhu['panas'] = fuzz.trimf(suhu.universe, [28, 35, 35])\n",
    "\n",
    "# Himpunan fuzzy untuk kelembapan\n",
    "kelembapan['rendah'] = fuzz.trimf(kelembapan.universe, [20, 20, 40])\n",
    "kelembapan['sedang'] = fuzz.trimf(kelembapan.universe, [30, 50, 70])\n",
    "kelembapan['tinggi'] = fuzz.trimf(kelembapan.universe, [60, 80, 80])\n",
    "\n",
    "# Himpunan fuzzy untuk kecepatan kipas\n",
    "kecepatan_kipas['lambat'] = fuzz.trimf(kecepatan_kipas.universe, [0, 0, 50])\n",
    "kecepatan_kipas['sedang'] = fuzz.trimf(kecepatan_kipas.universe, [30, 50, 70])\n",
    "kecepatan_kipas['cepat'] = fuzz.trimf(kecepatan_kipas.universe, [50, 100, 100])\n",
    "\n",
    "# Aturan fuzzy\n",
    "rule1 = ctrl.Rule(suhu['dingin'] & kelembapan['rendah'], kecepatan_kipas['lambat'])\n",
    "rule2 = ctrl.Rule(suhu['dingin'] & kelembapan['sedang'], kecepatan_kipas['lambat'])\n",
    "rule3 = ctrl.Rule(suhu['dingin'] & kelembapan['tinggi'], kecepatan_kipas['sedang'])\n",
    "rule4 = ctrl.Rule(suhu['normal'] & kelembapan['rendah'], kecepatan_kipas['sedang'])\n",
    "rule5 = ctrl.Rule(suhu['normal'] & kelembapan['sedang'], kecepatan_kipas['sedang'])\n",
    "rule6 = ctrl.Rule(suhu['normal'] & kelembapan['tinggi'], kecepatan_kipas['cepat'])\n",
    "rule7 = ctrl.Rule(suhu['panas'] & kelembapan['rendah'], kecepatan_kipas['sedang'])\n",
    "rule8 = ctrl.Rule(suhu['panas'] & kelembapan['sedang'], kecepatan_kipas['cepat'])\n",
    "rule9 = ctrl.Rule(suhu['panas'] & kelembapan['tinggi'], kecepatan_kipas['cepat'])\n",
    "\n",
    "# Sistem kontrol\n",
    "fan_speed_control = ctrl.ControlSystem([rule1, rule2, rule3, rule4, rule5, rule6, rule7, rule8, rule9])\n",
    "fan_speed_simulation = ctrl.ControlSystemSimulation(fan_speed_control)\n",
    "\n",
    "# Input nilai suhu dan kelembapan\n",
    "fan_speed_simulation.input['suhu'] = 45  # Contoh suhu\n",
    "fan_speed_simulation.input['kelembapan'] = 60  # Contoh kelembapan\n",
    "\n",
    "# Proses fuzzy\n",
    "fan_speed_simulation.compute()\n",
    "\n",
    "# Output kecepatan kipas\n",
    "print(f\"Kecepatan Kipas: {fan_speed_simulation.output['kecepatan_kipas']:.2f}%\")\n"
   ]
  },
  {
   "cell_type": "code",
   "execution_count": null,
   "id": "f6290748-3c6d-4f51-b7e4-6b8b204e2e5b",
   "metadata": {},
   "outputs": [],
   "source": []
  }
 ],
 "metadata": {
  "kernelspec": {
   "display_name": "Python 3 (ipykernel)",
   "language": "python",
   "name": "python3"
  },
  "language_info": {
   "codemirror_mode": {
    "name": "ipython",
    "version": 3
   },
   "file_extension": ".py",
   "mimetype": "text/x-python",
   "name": "python",
   "nbconvert_exporter": "python",
   "pygments_lexer": "ipython3",
   "version": "3.12.4"
  }
 },
 "nbformat": 4,
 "nbformat_minor": 5
}
